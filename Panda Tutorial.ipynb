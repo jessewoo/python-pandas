{
 "cells": [
  {
   "cell_type": "markdown",
   "id": "d244d082",
   "metadata": {},
   "source": [
    "## Complete Python Pandas Data Science Tutorial"
   ]
  },
  {
   "cell_type": "markdown",
   "id": "f5134bf5",
   "metadata": {},
   "source": [
    "https://www.youtube.com/watch?v=vmEHCJofslg&t=167s&ab_channel=KeithGalli"
   ]
  },
  {
   "cell_type": "code",
   "execution_count": 4,
   "id": "b2950c4d",
   "metadata": {},
   "outputs": [],
   "source": [
    "import pandas as pd\n",
    "\n",
    "df = pd.read_csv('pokemon_data.csv')\n",
    "\n",
    "# print(df.head(3))"
   ]
  },
  {
   "cell_type": "markdown",
   "id": "68458427",
   "metadata": {},
   "source": [
    "### Reading Data in Pandas"
   ]
  },
  {
   "cell_type": "code",
   "execution_count": 25,
   "id": "995fd665",
   "metadata": {},
   "outputs": [],
   "source": [
    "## Read Headers\n",
    "# print(df.columns)\n",
    "\n",
    "## Read each Column\n",
    "# print(df[['Name', 'Type 1', 'HP']][0:5])\n",
    "\n",
    "## Read each Row\n",
    "# print(df.head(4))\n",
    "# print(df.iloc[1])\n",
    "# print(df.iloc[1:4])\n",
    "# for index, row in df.iterrows():\n",
    "#     print(index, row['Name'])\n",
    "\n",
    "## Finding data that has a specific equal\n",
    "# df.loc[df['Type 1'] == \"Fire\"]\n",
    "# df.loc[df['Type 1'] == \"Grass\"]\n",
    "\n",
    "## Read a specific location (R, C)\n",
    "# print(df.iloc[2,1])\n",
    "\n",
    "## Quick look up statistical analysis\n",
    "# df.describe()\n",
    "\n",
    "## Sorting\n",
    "# df.sort_values('Name')\n",
    "# df.sort_values('Name', ascending=False)\n",
    "# df.sort_values(['Type 1', 'HP'], ascending=False)\n",
    "# df.sort_values(['Type 1', 'HP'], ascending=[1, 0])"
   ]
  },
  {
   "cell_type": "markdown",
   "id": "f9108d9f",
   "metadata": {},
   "source": [
    "### Making Changes to the Data"
   ]
  },
  {
   "cell_type": "code",
   "execution_count": 24,
   "id": "5ca9416c",
   "metadata": {},
   "outputs": [],
   "source": [
    "# df.head()\n",
    "\n",
    "# df['Total'] = df['HP'] + df['Attack'] + df['Defense'] + df['Sp. Atk'] + df['Sp. Def'] + df['Speed']\n",
    "\n",
    "# Total column is set in memory\n",
    "# df = df.drop(columns=['Total'])\n",
    "\n",
    "df['Total'] = df.iloc[:,4:10].sum(axis=1)\n",
    "\n",
    "cols = list(df.columns.values)\n",
    "# Instead of numbers, should get the key of the column\n",
    "df = df[cols[0:4] + [cols[-1]] + cols[4:12]]\n",
    "\n",
    "# df.head(5)"
   ]
  },
  {
   "cell_type": "code",
   "execution_count": 2,
   "id": "0db3a092",
   "metadata": {},
   "outputs": [],
   "source": [
    "# Saving it into a file\n",
    "# df.to_csv('modified.csv', index=False)"
   ]
  },
  {
   "cell_type": "markdown",
   "id": "08686a76",
   "metadata": {},
   "source": [
    "# Filtering Data"
   ]
  },
  {
   "cell_type": "code",
   "execution_count": 25,
   "id": "4d3fb215",
   "metadata": {},
   "outputs": [],
   "source": [
    "new_df = df.loc[(df['Type 1'] == 'Grass') \n",
    "                & (df['Type 2'] == 'Poison') \n",
    "                & (df['HP'] > 70)]\n",
    "\n",
    "new_df = new_df.reset_index(drop=True)\n",
    "# inplace=True\n",
    " \n",
    "# new_df\n",
    "\n",
    "# new_df.to_csv('filtered.csv')"
   ]
  },
  {
   "cell_type": "code",
   "execution_count": 26,
   "id": "1198cfc5",
   "metadata": {
    "scrolled": true
   },
   "outputs": [],
   "source": [
    "new_df_2 = df.loc[(df['Name'].str.contains('Mega'))]\n",
    "\n",
    "# new_df_2\n",
    "\n",
    "new_df_3 = df.loc[(~df['Name'].str.contains('Mega'))]\n",
    "\n",
    "# new_df_3"
   ]
  },
  {
   "cell_type": "code",
   "execution_count": 34,
   "id": "4e1c6441",
   "metadata": {},
   "outputs": [],
   "source": [
    "import re\n",
    "\n",
    "new_df_fire_grass = df.loc[(df['Type 1'].str.contains('fire|grass', flags=re.I, regex=True))]\n",
    "# new_df_fire_grass\n",
    "\n",
    "new_df_name_pi = df.loc[(df['Name'].str.contains('^pi[a-z]*', flags=re.I, regex=True))]\n",
    "# new_df_name_pi"
   ]
  },
  {
   "cell_type": "code",
   "execution_count": 37,
   "id": "bd3e832a",
   "metadata": {
    "scrolled": true
   },
   "outputs": [],
   "source": [
    "# Conditional Changes\n",
    "# df.loc[df['Type 1'] == 'Fire', 'Type 1'] = 'Flamer'\n",
    "\n",
    "df.loc[df['Type 1'] == 'Flamer', 'Type 1'] = 'Fire'\n",
    "\n",
    "df.loc[df['Type 1'] == 'Fire', 'Legendary'] = True\n",
    "# df"
   ]
  },
  {
   "cell_type": "code",
   "execution_count": 42,
   "id": "a2c1953b",
   "metadata": {},
   "outputs": [],
   "source": [
    "df.loc[df['Total'] > 500, \n",
    "       ['Generation', 'Legendary']] = ['Test 1', 'Test 2']\n",
    "\n",
    "# df"
   ]
  },
  {
   "cell_type": "markdown",
   "id": "5c309d46",
   "metadata": {},
   "source": [
    "# Aggregate Statistics (Groupby)"
   ]
  },
  {
   "cell_type": "code",
   "execution_count": 52,
   "id": "ef318061",
   "metadata": {},
   "outputs": [
    {
     "data": {
      "text/plain": [
       "Type 1  Type 2  \n",
       "Bug     Electric     2\n",
       "        Fighting     2\n",
       "        Fire         2\n",
       "        Flying      14\n",
       "        Ghost        1\n",
       "                    ..\n",
       "Water   Ice          3\n",
       "        Poison       3\n",
       "        Psychic      5\n",
       "        Rock         4\n",
       "        Steel        1\n",
       "Name: count, Length: 136, dtype: int64"
      ]
     },
     "execution_count": 52,
     "metadata": {},
     "output_type": "execute_result"
    }
   ],
   "source": [
    "# Reset the changes\n",
    "df = pd.read_csv('modified.csv')\n",
    "\n",
    "# df.groupby(['Type 1']).mean().sort_values('Defense', ascending=False)\n",
    "\n",
    "# df.groupby(['Type 1']).mean().sort_values('Attack', ascending=False)\n",
    "\n",
    "df['count'] = 1\n",
    "\n",
    "df.groupby(['Type 1', 'Type 2']).count()['count']\n",
    "\n",
    "# df"
   ]
  },
  {
   "cell_type": "markdown",
   "id": "96710b52",
   "metadata": {},
   "source": [
    "# Working with large amounts of data"
   ]
  },
  {
   "cell_type": "code",
   "execution_count": 53,
   "id": "ab4f777a",
   "metadata": {},
   "outputs": [
    {
     "ename": "NameError",
     "evalue": "name 'pb' is not defined",
     "output_type": "error",
     "traceback": [
      "\u001b[0;31m---------------------------------------------------------------------------\u001b[0m",
      "\u001b[0;31mNameError\u001b[0m                                 Traceback (most recent call last)",
      "\u001b[0;32m<ipython-input-53-4d02d77316a2>\u001b[0m in \u001b[0;36m<module>\u001b[0;34m\u001b[0m\n\u001b[0;32m----> 1\u001b[0;31m \u001b[0mnew_df\u001b[0m \u001b[0;34m=\u001b[0m \u001b[0mpb\u001b[0m\u001b[0;34m.\u001b[0m\u001b[0mDataFrame\u001b[0m\u001b[0;34m(\u001b[0m\u001b[0mcolumns\u001b[0m\u001b[0;34m=\u001b[0m\u001b[0mdf\u001b[0m\u001b[0;34m.\u001b[0m\u001b[0mcolumns\u001b[0m\u001b[0;34m)\u001b[0m\u001b[0;34m\u001b[0m\u001b[0;34m\u001b[0m\u001b[0m\n\u001b[0m\u001b[1;32m      2\u001b[0m \u001b[0;34m\u001b[0m\u001b[0m\n\u001b[1;32m      3\u001b[0m \u001b[0;32mfor\u001b[0m \u001b[0mdf\u001b[0m \u001b[0;32min\u001b[0m \u001b[0mpd\u001b[0m\u001b[0;34m.\u001b[0m\u001b[0mread_csv\u001b[0m\u001b[0;34m(\u001b[0m\u001b[0;34m'modified.csv'\u001b[0m\u001b[0;34m,\u001b[0m \u001b[0mchunksize\u001b[0m\u001b[0;34m=\u001b[0m\u001b[0;36m5\u001b[0m\u001b[0;34m)\u001b[0m\u001b[0;34m:\u001b[0m\u001b[0;34m\u001b[0m\u001b[0;34m\u001b[0m\u001b[0m\n\u001b[1;32m      4\u001b[0m \u001b[0;31m#     print(\"Chunk Diff\")\u001b[0m\u001b[0;34m\u001b[0m\u001b[0;34m\u001b[0m\u001b[0;34m\u001b[0m\u001b[0m\n\u001b[1;32m      5\u001b[0m \u001b[0;31m#     print df\u001b[0m\u001b[0;34m\u001b[0m\u001b[0;34m\u001b[0m\u001b[0;34m\u001b[0m\u001b[0m\n",
      "\u001b[0;31mNameError\u001b[0m: name 'pb' is not defined"
     ]
    }
   ],
   "source": [
    "new_df = pb.DataFrame(columns=df.columns)\n",
    "\n",
    "for df in pd.read_csv('modified.csv', chunksize=5): \n",
    "#     print(\"Chunk Diff\")\n",
    "#     print df\n",
    "    results = df.groupby(['Type 1']).count()\n",
    "#     Pend ong results and appened\n",
    "    new_df = pd.concat([new_df, results])\n"
   ]
  },
  {
   "cell_type": "code",
   "execution_count": null,
   "id": "dcfb56e9",
   "metadata": {},
   "outputs": [],
   "source": []
  }
 ],
 "metadata": {
  "kernelspec": {
   "display_name": "Python 3",
   "language": "python",
   "name": "python3"
  },
  "language_info": {
   "codemirror_mode": {
    "name": "ipython",
    "version": 3
   },
   "file_extension": ".py",
   "mimetype": "text/x-python",
   "name": "python",
   "nbconvert_exporter": "python",
   "pygments_lexer": "ipython3",
   "version": "3.8.8"
  }
 },
 "nbformat": 4,
 "nbformat_minor": 5
}
